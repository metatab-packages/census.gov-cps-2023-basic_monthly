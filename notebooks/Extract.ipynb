{
 "cells": [
  {
   "cell_type": "code",
   "execution_count": 2,
   "metadata": {},
   "outputs": [],
   "source": [
    "import seaborn as sns\n",
    "import metapack as mp\n",
    "import pandas as pd\n",
    "import numpy as np\n",
    "import matplotlib.pyplot as plt\n",
    "from IPython.display import display \n",
    "\n",
    "%matplotlib inline\n",
    "sns.set_context('notebook')\n",
    "mp.jupyter.init()\n"
   ]
  },
  {
   "cell_type": "code",
   "execution_count": 20,
   "metadata": {},
   "outputs": [
    {
     "data": {
      "text/html": [
       "<h1>Current Population Survey, 2023</h1>\n",
       "<p><code>census.gov-cps-2023-basic_monthly-1.1.1</code> Last Update: 2023-02-28T20:36:02</p>\n",
       "<p>__</p>\n",
       "<h2>Documentation Links</h2>\n",
       "<ul>\n",
       "<li><a href=\"https://www.census.gov/programs-surveys/cps/technical-documentation/subject-definitions.html\">Subject Definitions</a> Descriptions of major concepts.</li>\n",
       "<li><a href=\"https://www.census.gov/programs-surveys/cps/technical-documentation/user-notes.html\">User Notes</a> Various technical documentation.</li>\n",
       "</ul>\n",
       "<h2>Contacts</h2>\n",
       "<ul>\n",
       "<li><strong>Wrangler</strong> <a href=\"mailto:eric@civicknowledge.com\">Eric Busboom</a>, <a href=\"http://civicknowledge.com\">Civic Knowledge</a></li>\n",
       "</ul>\n",
       "<h2>Resources</h2>\n",
       "<ul>\n",
       "<li><strong> <a href=\"notebooks/Extract.ipynb#df\">cps202301</a></strong>. </li>\n",
       "</ul>\n",
       "<h2>References</h2>\n",
       "<ul><li> <strong><a href=\"https://www2.census.gov/programs-surveys/cps/datasets/2023/basic/jan23pub.csv\">jan23</a></strong>. January 2023</li><li> <strong><a href=\"https://www2.census.gov/programs-surveys/cps/datasets/2023/basic/2023_Basic_CPS_Public_Use_Record_Layout_plus_IO_Code_list.txt\">data_dictionary</a></strong>. </li><li> <strong><a href=\"https://www2.census.gov/programs-surveys/cps/datasets/2023/basic/jan23pub.csv\">cps202301_source</a></strong>. </li><ul>"
      ],
      "text/plain": [
       "# Current Population Survey, 2023\n",
       "`census.gov-cps-2023-basic_monthly-1.1.1` Last Update: 2023-02-28T20:36:02\n",
       "\n",
       "__\n",
       "\n",
       "\n",
       "## Documentation Links\n",
       "\n",
       "* [Subject Definitions](https://www.census.gov/programs-surveys/cps/technical-documentation/subject-definitions.html) Descriptions of major concepts.\n",
       "* [User Notes](https://www.census.gov/programs-surveys/cps/technical-documentation/user-notes.html) Various technical documentation.\n",
       "\n",
       " \n",
       "\n",
       "## Contacts\n",
       "\n",
       "* **Wrangler** [Eric Busboom](mailto:eric@civicknowledge.com), [Civic Knowledge](http://civicknowledge.com)\n",
       "\n",
       "## Resources\n",
       "\n",
       "* ** [cps202301](notebooks/Extract.ipynb#df)**. \n",
       "\n",
       "## References\n",
       "<ul><li> <strong><a href=\"https://www2.census.gov/programs-surveys/cps/datasets/2023/basic/jan23pub.csv\">jan23</a></strong>. January 2023</li><li> <strong><a href=\"https://www2.census.gov/programs-surveys/cps/datasets/2023/basic/2023_Basic_CPS_Public_Use_Record_Layout_plus_IO_Code_list.txt\">data_dictionary</a></strong>. </li><li> <strong><a href=\"https://www2.census.gov/programs-surveys/cps/datasets/2023/basic/jan23pub.csv\">cps202301_source</a></strong>. </li><ul>\n"
      ]
     },
     "execution_count": 20,
     "metadata": {},
     "output_type": "execute_result"
    }
   ],
   "source": [
    "#pkg = mp.jupyter.open_package()\n",
    "pkg = mp.jupyter.open_source_package()\n",
    "pkg"
   ]
  },
  {
   "cell_type": "code",
   "execution_count": null,
   "metadata": {},
   "outputs": [],
   "source": [
    "df = pkg.reference('cps202301_source').dataframe()\n",
    "df.head()"
   ]
  },
  {
   "cell_type": "code",
   "execution_count": 55,
   "metadata": {},
   "outputs": [],
   "source": [
    "vard = pd.read_csv('../data/variable_descriptions.csv')\n",
    "dd = {r.column:r.desc for idx, r in vard.iterrows() }"
   ]
  },
  {
   "cell_type": "code",
   "execution_count": 53,
   "metadata": {},
   "outputs": [],
   "source": [
    "st = pkg.resource('cps202301').schema_term\n",
    "\n",
    "for t in st.children:\n",
    "    e = dd.get(t.name.lower())\n",
    "    t.name = t.name.lower()\n",
    "    \n",
    "    if e and not t.find_first('Description'):\n",
    "        t['Description'] = e.strip()\n",
    "    elif t.find_first('Description'):\n",
    "        t['Description'] = t.description.strip()\n",
    "\n",
    "pkg.write()"
   ]
  },
  {
   "cell_type": "code",
   "execution_count": 34,
   "metadata": {},
   "outputs": [
    {
     "data": {
      "text/plain": [
       "px    95\n",
       "pe    88\n",
       "pu    72\n",
       "pr    57\n",
       "pt    15\n",
       "hu    12\n",
       "hr     8\n",
       "gt     7\n",
       "he     6\n",
       "pw     6\n",
       "hx     6\n",
       "ge     3\n",
       "hw     2\n",
       "pa     1\n",
       "qs     1\n",
       "oc     1\n",
       "Name: column, dtype: int64"
      ]
     },
     "execution_count": 34,
     "metadata": {},
     "output_type": "execute_result"
    }
   ],
   "source": [
    "vard.column.str.slice(0,2).value_counts()"
   ]
  },
  {
   "cell_type": "code",
   "execution_count": 60,
   "metadata": {},
   "outputs": [
    {
     "data": {
      "text/plain": [
       "['Relationship to Reference Person.',\n",
       " 'Marital status.',\n",
       " 'Line number of spouse.',\n",
       " 'Sex.',\n",
       " 'Did you ever serve on active duty in the U.S. Armed Forces?',\n",
       " 'Are you now in the Armed Forces?',\n",
       " 'Highest level of school completed or degree received.',\n",
       " 'Hispanic or non-Hispanic.',\n",
       " 'Country of birth.',\n",
       " \"Mother's country of birth.\",\n",
       " \"Father's country of birth.\",\n",
       " 'Monthly labor force recode',\n",
       " 'Do you currently want a job, either full or part-time?',\n",
       " 'What is the main reason you were absent from work last week?',\n",
       " 'Are you being paid by your employer for any of the time off last week?',\n",
       " 'Do you have more than one job?',\n",
       " 'Altogether, how many jobs do you have?',\n",
       " 'How many hours per week do you usually work at your main job?',\n",
       " 'How many hours per week do you usually work at your other job(s)?',\n",
       " 'Do you usually work 35 hours or more per week?',\n",
       " 'Sum of HRUSL1 and HRUSL2.',\n",
       " 'Do you want to work a full-time work week of 35 hours or more per week?',\n",
       " 'What is your main reason for working part-time?',\n",
       " 'What is the main reason you do not want to work full-time?',\n",
       " 'What is the main reason you worked less than 35 hours last week?',\n",
       " 'Last week, how many hours did you actually work at your job?',\n",
       " 'Last week, how many hours did you actually work at your other job(s)?',\n",
       " 'Sum of PEHRACT1 and PEHRACT2.',\n",
       " 'Last week, could you have worked full-time if the hours had been available?',\n",
       " 'Could you have returned to work last week if you had been recalled?',\n",
       " 'Even though you are to be called back to work, have you been looking for work during the last 4 weeks?',\n",
       " 'Duration of layoff.',\n",
       " 'FT/PT status of job from which sample person was on layoff from.',\n",
       " 'What are all of the things you have done to find work during the last 4 weeks? (First method).',\n",
       " 'Last week, could you have started a job if one had been offered?',\n",
       " 'Before you started looking for work, what were you doing: working, going to school, or something else?',\n",
       " 'Did you lose or quit that job, or was it a temporary job that ended?',\n",
       " 'When last worked?',\n",
       " 'Duration of job seeking',\n",
       " 'FT/PT status of jobseeker',\n",
       " 'Do you currently want a job, either full or part time?',\n",
       " 'What is the main reason you were not looking for work during the last 4 weeks?',\n",
       " 'Did you look for work at any time in the last 12 months?',\n",
       " 'Did you actually work at a job or business during the last 12 months?',\n",
       " 'Did you do any of this work during the last 4 weeks?',\n",
       " 'Since you left that job or business have you looked for work?',\n",
       " 'Last week, could you have started a job if one had been offered?',\n",
       " 'Why is that?',\n",
       " 'Have you worked at a job or business at any time during the past 12 months?',\n",
       " 'What is the main reason you left your last job?',\n",
       " 'Do you intend to look for work during the next 12 months?',\n",
       " 'Individual class of worker code on first job. Note: A PEIO1COW code can be assigned even if an individual is not currently employed.',\n",
       " 'Individual class of worker on second job. Note: For those self-employed unincorporated on their first job, this should have a response every month. For all others, this should only have a value in out-going rotations.',\n",
       " 'Do you usually receive overtime pay, tips, or commissions at your job?',\n",
       " 'Periodicity',\n",
       " 'Even though you told me it is easier to report your earnings (periodicity); are you paid at an hourly rate on your (main/this) job?',\n",
       " 'Hourly/Nonhourly Status',\n",
       " 'Usual hours.',\n",
       " 'How many weeks a year do you get paid for?',\n",
       " 'On this job, are you a member of a labor union or of an employee association similar to a union?',\n",
       " 'On this job, are you covered by a union or employee association contract?',\n",
       " 'When did you last work at a job or business?',\n",
       " 'What best describes your situation at this time? For example, are you disabled, ill, in school, taking care of house or family, or something else?',\n",
       " 'Last week, were you enrolled in a high school, college, or university?',\n",
       " 'Are you enrolled in school as a full-time or part-time student?',\n",
       " 'Would that be high school, college, or university?',\n",
       " 'How did (they/he/she) get (their/his/her) high school diploma?',\n",
       " 'What was the highest grade of regular school (they/he/she) completed before receiving (their/his/her) GED?',\n",
       " 'How many years of college credit has (they/he/she) completed?',\n",
       " 'Industry code for primary job.',\n",
       " 'Industry code for second job.',\n",
       " 'When did you serve?',\n",
       " 'When did you serve?',\n",
       " 'When did you serve?',\n",
       " 'When did you serve?',\n",
       " 'Line number of first parent (always the father, if present. Will be a female if the parents are same sex).',\n",
       " 'Line number of second parent (always the mother, if present. Will be a male if the parents are same sex).',\n",
       " 'Type of PEPAR2 edited universe: All - 1 No PEPAR1 present.',\n",
       " 'Type of PEPAR1 edited universe: All - 1 No PEPAR2 present.',\n",
       " 'Line number of cohabiting partner.',\n",
       " 'Is this person deaf or does he/she have serious difficulty hearing?',\n",
       " 'Is this person blind or does he/she have serious difficulty seeing even when wearing glasses?',\n",
       " 'Because of a physical, mental, or emotional condition, does he/she have serious difficulty concentrating, remembering, or making decisions?',\n",
       " 'Does he/she have serious difficulty walking or climbing stairs?',\n",
       " 'Does he/she have difficulty dressing or bathing?',\n",
       " \"Because of a physical, mental, or emotional condition, does he/she have difficulty doing errands alone such as visiting a doctor's office or shopping?\",\n",
       " 'Does this person usually have any paid employees? See location 637 - 638 for the allocation flag.',\n",
       " 'Does this person usually have any paid employees? See location 787 - 788 for the allocation flag.']"
      ]
     },
     "execution_count": 60,
     "metadata": {},
     "output_type": "execute_result"
    }
   ],
   "source": [
    "vard[vard.column.str.slice(0,2) == 'pe'].desc.tolist()"
   ]
  },
  {
   "cell_type": "code",
   "execution_count": null,
   "metadata": {},
   "outputs": [],
   "source": []
  }
 ],
 "metadata": {
  "kernelspec": {
   "display_name": "Python 3 (ipykernel)",
   "language": "python",
   "name": "python3"
  },
  "language_info": {
   "codemirror_mode": {
    "name": "ipython",
    "version": 3
   },
   "file_extension": ".py",
   "mimetype": "text/x-python",
   "name": "python",
   "nbconvert_exporter": "python",
   "pygments_lexer": "ipython3",
   "version": "3.10.6"
  }
 },
 "nbformat": 4,
 "nbformat_minor": 4
}
