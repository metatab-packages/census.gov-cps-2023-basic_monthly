{
 "cells": [
  {
   "cell_type": "code",
   "execution_count": 2,
   "metadata": {},
   "outputs": [],
   "source": [
    "import seaborn as sns\n",
    "import metapack as mp\n",
    "import pandas as pd\n",
    "import numpy as np\n",
    "import matplotlib.pyplot as plt\n",
    "from IPython.display import display \n",
    "\n",
    "%matplotlib inline\n",
    "sns.set_context('notebook')\n",
    "mp.jupyter.init()\n"
   ]
  },
  {
   "cell_type": "code",
   "execution_count": 3,
   "metadata": {},
   "outputs": [
    {
     "data": {
      "text/html": [
       "<h1>Current Population Survey, 2023</h1>\n",
       "<p><code>census.gov-cps-2023-basic_monthly-1.1.1</code> Last Update: 2023-02-24T21:00:55</p>\n",
       "<p>__</p>\n",
       "<h2>Documentation Links</h2>\n",
       "<ul>\n",
       "<li><a href=\"https://www.census.gov/programs-surveys/cps/technical-documentation/subject-definitions.html\">Subject Definitions</a> Descriptions of major concepts.</li>\n",
       "<li><a href=\"https://www.census.gov/programs-surveys/cps/technical-documentation/user-notes.html\">User Notes</a> Various technical documentation.</li>\n",
       "</ul>\n",
       "<h2>Contacts</h2>\n",
       "<ul>\n",
       "<li><strong>Wrangler</strong> <a href=\"mailto:eric@civicknowledge.com\">Eric Busboom</a>, <a href=\"http://civicknowledge.com\">Civic Knowledge</a></li>\n",
       "</ul>\n",
       "<h2>Resources</h2>\n",
       "<ul>\n",
       "<li><strong> <a href=\"notebooks/Extract.ipynb#df\">cps202301</a></strong>. </li>\n",
       "</ul>\n",
       "<h2>References</h2>\n",
       "<ul><li> <strong><a href=\"https://www2.census.gov/programs-surveys/cps/datasets/2023/basic/jan23pub.csv\">jan23</a></strong>. January 2023</li><li> <strong><a href=\"https://www2.census.gov/programs-surveys/cps/datasets/2023/basic/2023_Basic_CPS_Public_Use_Record_Layout_plus_IO_Code_list.txt\">data_dictionary</a></strong>. </li><li> <strong><a href=\"https://www2.census.gov/programs-surveys/cps/datasets/2023/basic/jan23pub.csv\">cps202301_source</a></strong>. </li><ul>"
      ],
      "text/plain": [
       "# Current Population Survey, 2023\n",
       "`census.gov-cps-2023-basic_monthly-1.1.1` Last Update: 2023-02-24T21:00:55\n",
       "\n",
       "__\n",
       "\n",
       "\n",
       "## Documentation Links\n",
       "\n",
       "* [Subject Definitions](https://www.census.gov/programs-surveys/cps/technical-documentation/subject-definitions.html) Descriptions of major concepts.\n",
       "* [User Notes](https://www.census.gov/programs-surveys/cps/technical-documentation/user-notes.html) Various technical documentation.\n",
       "\n",
       " \n",
       "\n",
       "## Contacts\n",
       "\n",
       "* **Wrangler** [Eric Busboom](mailto:eric@civicknowledge.com), [Civic Knowledge](http://civicknowledge.com)\n",
       "\n",
       "## Resources\n",
       "\n",
       "* ** [cps202301](notebooks/Extract.ipynb#df)**. \n",
       "\n",
       "## References\n",
       "<ul><li> <strong><a href=\"https://www2.census.gov/programs-surveys/cps/datasets/2023/basic/jan23pub.csv\">jan23</a></strong>. January 2023</li><li> <strong><a href=\"https://www2.census.gov/programs-surveys/cps/datasets/2023/basic/2023_Basic_CPS_Public_Use_Record_Layout_plus_IO_Code_list.txt\">data_dictionary</a></strong>. </li><li> <strong><a href=\"https://www2.census.gov/programs-surveys/cps/datasets/2023/basic/jan23pub.csv\">cps202301_source</a></strong>. </li><ul>\n"
      ]
     },
     "execution_count": 3,
     "metadata": {},
     "output_type": "execute_result"
    }
   ],
   "source": [
    "#pkg = mp.jupyter.open_package()\n",
    "pkg = mp.jupyter.open_source_package()\n",
    "pkg"
   ]
  },
  {
   "cell_type": "code",
   "execution_count": null,
   "metadata": {},
   "outputs": [],
   "source": [
    "df = pkg.reference('cps202301_source').dataframe()\n",
    "df.head()"
   ]
  },
  {
   "cell_type": "code",
   "execution_count": null,
   "metadata": {},
   "outputs": [],
   "source": [
    "st = pkg.resource('cps202301').schema_term\n",
    "\n",
    "if len(st.children) == 0:\n",
    "    for k, v in vard.items():\n",
    "        print(v.title())\n",
    "    "
   ]
  }
 ],
 "metadata": {
  "kernelspec": {
   "display_name": "Python 3 (ipykernel)",
   "language": "python",
   "name": "python3"
  },
  "language_info": {
   "codemirror_mode": {
    "name": "ipython",
    "version": 3
   },
   "file_extension": ".py",
   "mimetype": "text/x-python",
   "name": "python",
   "nbconvert_exporter": "python",
   "pygments_lexer": "ipython3",
   "version": "3.10.6"
  }
 },
 "nbformat": 4,
 "nbformat_minor": 4
}
