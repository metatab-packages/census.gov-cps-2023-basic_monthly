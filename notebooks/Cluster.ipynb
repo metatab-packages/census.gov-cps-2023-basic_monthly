{
 "cells": [
  {
   "cell_type": "code",
   "execution_count": 17,
   "metadata": {},
   "outputs": [],
   "source": [
    "import seaborn as sns\n",
    "import metapack as mp\n",
    "import pandas as pd\n",
    "import numpy as np\n",
    "import matplotlib.pyplot as plt\n",
    "from IPython.display import display \n",
    "\n",
    "%matplotlib inline\n",
    "sns.set_context('notebook')\n",
    "mp.jupyter.init()\n",
    "\n",
    "pkg = mp.jupyter.open_source_package()\n",
    "pkg.set_sys_path()\n",
    "\n",
    "from pylib import * \n"
   ]
  },
  {
   "cell_type": "code",
   "execution_count": 4,
   "metadata": {},
   "outputs": [
    {
     "data": {
      "text/html": [
       "<h1>Current Population Survey, 2023</h1>\n",
       "<p><code>census.gov-cps-2023-basic_monthly-1.1.1</code> Last Update: 2023-03-01T17:22:18</p>\n",
       "<p>__</p>\n",
       "<h2>Documentation Links</h2>\n",
       "<ul>\n",
       "<li><a href=\"https://www.census.gov/programs-surveys/cps/technical-documentation/subject-definitions.html\">Subject Definitions</a> Descriptions of major concepts.</li>\n",
       "<li><a href=\"https://www.census.gov/programs-surveys/cps/technical-documentation/user-notes.html\">User Notes</a> Various technical documentation.</li>\n",
       "</ul>\n",
       "<h2>Contacts</h2>\n",
       "<ul>\n",
       "<li><strong>Wrangler</strong> <a href=\"mailto:eric@civicknowledge.com\">Eric Busboom</a>, <a href=\"http://civicknowledge.com\">Civic Knowledge</a></li>\n",
       "</ul>\n",
       "<h2>Resources</h2>\n",
       "<ul>\n",
       "<li><strong> <a href=\"data/variable_descriptions.csv\">variable_descriptions</a></strong>. All of the variables and their cleaned text descriptions</li>\n",
       "<li><strong> <a href=\"data/variable_values.csv\">variable_values</a></strong>. Text descriptions of the integer values of categorical variables.</li>\n",
       "<li><strong> <a href=\"notebooks/Extract.ipynb#df\">cps202301</a></strong>. </li>\n",
       "</ul>\n",
       "<h2>References</h2>\n",
       "<ul><li> <strong><a href=\"https://www2.census.gov/programs-surveys/cps/datasets/2023/basic/jan23pub.csv\">jan23</a></strong>. January 2023</li><li> <strong><a href=\"https://www2.census.gov/programs-surveys/cps/datasets/2023/basic/2023_Basic_CPS_Public_Use_Record_Layout_plus_IO_Code_list.txt\">data_dictionary_text</a></strong>. Original text of the data dictionary</li><li> <strong><a href=\"https://www2.census.gov/programs-surveys/cps/datasets/2023/basic/jan23pub.csv\">cps202301_source</a></strong>. </li><ul>"
      ],
      "text/plain": [
       "# Current Population Survey, 2023\n",
       "`census.gov-cps-2023-basic_monthly-1.1.1` Last Update: 2023-03-01T17:22:18\n",
       "\n",
       "__\n",
       "\n",
       "\n",
       "## Documentation Links\n",
       "\n",
       "* [Subject Definitions](https://www.census.gov/programs-surveys/cps/technical-documentation/subject-definitions.html) Descriptions of major concepts.\n",
       "* [User Notes](https://www.census.gov/programs-surveys/cps/technical-documentation/user-notes.html) Various technical documentation.\n",
       "\n",
       " \n",
       "\n",
       "## Contacts\n",
       "\n",
       "* **Wrangler** [Eric Busboom](mailto:eric@civicknowledge.com), [Civic Knowledge](http://civicknowledge.com)\n",
       "\n",
       "## Resources\n",
       "\n",
       "* ** [variable_descriptions](data/variable_descriptions.csv)**. All of the variables and their cleaned text descriptions\n",
       "* ** [variable_values](data/variable_values.csv)**. Text descriptions of the integer values of categorical variables.\n",
       "* ** [cps202301](notebooks/Extract.ipynb#df)**. \n",
       "\n",
       "## References\n",
       "<ul><li> <strong><a href=\"https://www2.census.gov/programs-surveys/cps/datasets/2023/basic/jan23pub.csv\">jan23</a></strong>. January 2023</li><li> <strong><a href=\"https://www2.census.gov/programs-surveys/cps/datasets/2023/basic/2023_Basic_CPS_Public_Use_Record_Layout_plus_IO_Code_list.txt\">data_dictionary_text</a></strong>. Original text of the data dictionary</li><li> <strong><a href=\"https://www2.census.gov/programs-surveys/cps/datasets/2023/basic/jan23pub.csv\">cps202301_source</a></strong>. </li><ul>\n"
      ]
     },
     "execution_count": 4,
     "metadata": {},
     "output_type": "execute_result"
    }
   ],
   "source": [
    "pkg = mp.jupyter.open_package()\n",
    "#pkg = mp.jupyter.open_source_package()\n",
    "pkg"
   ]
  },
  {
   "cell_type": "code",
   "execution_count": 54,
   "metadata": {},
   "outputs": [],
   "source": [
    "vd = pkg.resource('variable_descriptions').dataframe()\n",
    "vv = pkg.resource('variable_values').dataframe()"
   ]
  },
  {
   "cell_type": "code",
   "execution_count": 55,
   "metadata": {},
   "outputs": [
    {
     "data": {
      "text/plain": [
       "px    95\n",
       "pe    88\n",
       "pu    72\n",
       "pr    57\n",
       "pt    15\n",
       "hu    12\n",
       "hr     8\n",
       "gt     7\n",
       "he     6\n",
       "pw     6\n",
       "hx     6\n",
       "ge     3\n",
       "hw     2\n",
       "pa     1\n",
       "qs     1\n",
       "oc     1\n",
       "Name: cat, dtype: int64"
      ]
     },
     "execution_count": 55,
     "metadata": {},
     "output_type": "execute_result"
    }
   ],
   "source": [
    "vd['cat'] = vd.column.str.slice(0,2)\n",
    "vd.cat.value_counts()"
   ]
  },
  {
   "cell_type": "code",
   "execution_count": 68,
   "metadata": {},
   "outputs": [],
   "source": [
    "vd_dict = { r.column:r.desc for idx, r in vd.iterrows() }\n"
   ]
  },
  {
   "cell_type": "code",
   "execution_count": 87,
   "metadata": {},
   "outputs": [
    {
     "name": "stdout",
     "output_type": "stream",
     "text": [
      "\n",
      "Column: pubus2ot\n",
      "Values: \n",
      "Do you receive any payments or profits from the business?: 'YES'\n",
      "Do you receive any payments or profits from the business?: 'NO'\n",
      "\n",
      "Column: pulkps4\n",
      "Values: \n",
      "Same as PULKPS2 (Fourth Method).: 'CONTACTED EMPLOYER DIRECTLY / INTERVIEW'\n",
      "Same as PULKPS2 (Fourth Method).: 'CONTACTED PUBLIC EMPLOYMENT AGENCY'\n",
      "Same as PULKPS2 (Fourth Method).: 'CONTACTED PRIVATE EMPLOYMENT AGENCY'\n",
      "Same as PULKPS2 (Fourth Method).: 'CONTACTED FRIENDS OR RELATIVES'\n",
      "Same as PULKPS2 (Fourth Method).: 'CONTACTED SCHOOL / UNIVERSITY EMPL CENTER'\n",
      "Same as PULKPS2 (Fourth Method).: 'SENT OUT RESUMES / FILLED OUT APPLICATION'\n",
      "Same as PULKPS2 (Fourth Method).: 'CHECKED UNION / PROFESSIONAL REGISTERS'\n",
      "Same as PULKPS2 (Fourth Method).: 'PLACED OR ANSWERED ADS'\n",
      "Same as PULKPS2 (Fourth Method).: 'OTHER ACTIVE'\n",
      "Same as PULKPS2 (Fourth Method).: 'LOOKED AT ADS'\n",
      "Same as PULKPS2 (Fourth Method).: 'ATTENDED JOB TRAINING PROGRAMS / COURSES'\n",
      "Same as PULKPS2 (Fourth Method).: 'OTHER PASSIVE'\n",
      "\n",
      "Column: pelkll1o\n",
      "Values: \n",
      "Before you started looking for work, what were you doing: working, going to school, or something else?: 'WORKING'\n",
      "Before you started looking for work, what were you doing: working, going to school, or something else?: 'SCHOOL'\n",
      "Before you started looking for work, what were you doing: working, going to school, or something else?: 'LEFT MILITARY SERVICE'\n",
      "Before you started looking for work, what were you doing: working, going to school, or something else?: 'SOMETHING ELSE'\n",
      "\n",
      "Column: pulk\n",
      "Values: \n",
      "Have you been doing anything to find work during the last 4 weeks?: 'YES'\n",
      "Have you been doing anything to find work during the last 4 weeks?: 'NO'\n",
      "Have you been doing anything to find work during the last 4 weeks?: 'RETIRED'\n",
      "Have you been doing anything to find work during the last 4 weeks?: 'DISABLED'\n",
      "Have you been doing anything to find work during the last 4 weeks?: 'UNABLE TO WORK'\n",
      "\n",
      "Column: peernhry\n",
      "Values: \n",
      "Hourly/Nonhourly Status: 'HOURLY WORKER'\n",
      "Hourly/Nonhourly Status: 'NONHOURLY WORKER'\n",
      "\n"
     ]
    }
   ],
   "source": [
    "from random import choices\n",
    "\n",
    "t = vd[vd.cat == 'px']\n",
    "\n",
    "out = \"\"\n",
    "\n",
    "for col_name, g in choices(list(vv.groupby('column')), k=5):\n",
    "    question = vd_dict.get(col_name)\n",
    "    values = '\\n'.join([ question+\": '\"+e+\"'\" for e in g.desc.to_list()])\n",
    "    \n",
    "    out += f\"\"\"\n",
    "Column: {col_name}\n",
    "Values: \n",
    "{values}\n",
    "\"\"\"\n",
    "    \n",
    "print(out)\n"
   ]
  },
  {
   "cell_type": "code",
   "execution_count": 16,
   "metadata": {},
   "outputs": [
    {
     "data": {
      "text/plain": [
       "['Altogether, how many jobs do you have?',\n",
       " 'What is the main reason you were not looking for work during the last 4 weeks?',\n",
       " 'Since you left that job or business have you looked for work?',\n",
       " 'Did you lose or quit that job, or was it a temporary job that ended?',\n",
       " 'Last week, could you have started a job if one had been offered?',\n",
       " 'Last week, how many hours did you actually work at your job?',\n",
       " 'How did (they/he/she) get (their/his/her) high school diploma?',\n",
       " 'What is the main reason you do not want to work full-time?',\n",
       " 'Even though you told me it is easier to report your earnings (periodicity); are you paid at an hourly rate on your (main/this) job?',\n",
       " 'Do you intend to look for work during the next 12 months?',\n",
       " \"Mother's country of birth.\",\n",
       " 'Marital status.',\n",
       " 'Usual hours.',\n",
       " 'Have you worked at a job or business at any time during the past 12 months?',\n",
       " 'Sum of PEHRACT1 and PEHRACT2.',\n",
       " 'Type of PEPAR1 edited universe: All - 1 No PEPAR2 present.',\n",
       " 'What was the highest grade of regular school (they/he/she) completed before receiving (their/his/her) GED?',\n",
       " 'Does he/she have difficulty dressing or bathing?',\n",
       " 'When did you last work at a job or business?',\n",
       " 'Are you being paid by your employer for any of the time off last week?',\n",
       " 'Do you currently want a job, either full or part-time?',\n",
       " 'Monthly labor force recode',\n",
       " 'Did you look for work at any time in the last 12 months?',\n",
       " 'How many years of college credit has (they/he/she) completed?',\n",
       " 'Are you enrolled in school as a full-time or part-time student?',\n",
       " 'Last week, could you have started a job if one had been offered?',\n",
       " 'Industry code for second job.',\n",
       " 'FT/PT status of jobseeker',\n",
       " 'Duration of layoff.',\n",
       " 'Periodicity']"
      ]
     },
     "execution_count": 16,
     "metadata": {},
     "output_type": "execute_result"
    }
   ],
   "source": [
    "vd[vd.cat == 'pe'].desc.sample(30).to_list()"
   ]
  },
  {
   "cell_type": "code",
   "execution_count": null,
   "metadata": {},
   "outputs": [],
   "source": []
  },
  {
   "cell_type": "code",
   "execution_count": 51,
   "metadata": {},
   "outputs": [
    {
     "data": {
      "text/plain": [
       "\"Personal Information:\\n- Person's age\\n- Top code flag for age\\n- Detailed Hispanic origin group\\n- Family number recode\\n- Family relationship recode\\n- Family type recode\\n- Marital status based on Armed Forces participation\\n- Type of person record recode\\n- Citizenship status\\n- Citizenship allocation flag\\n- Immigrant's year of entry\\n- NLF activity - in school or not in school\\n- Presence of own children < 18 years of age by selected age group\\n- Number of own children < 18 years of age\\n- Does this person have any of these disability conditions?\\n- Detailed Asian race recode\\n\\nEmployment: \\n- Reason not at work and pay status\\n- Civilian labor force\\n- Discouraged worker recode \\n- Reason not at work or hours at work \\n- MLR - Employed, unemployed, or NILF \\n- Experienced labor force employment \\n- Full time labor force \\n- Usual hours worked weekly \\n- Job search recode \\n- At work 1 - 34 by hours at work \\n- Detailed reason for part time \\n- Duration of unemployment for layoff and looking records \\n- Reason for unemployment \\n- Labor force by time worked or lost  \\n- Full/part time work status \\n- NILF recode - Want a job or other NILF  \\n- Industry and Occupation Eligibility Flag \\n- Agriculture/Non Agriculture Industry  \\n- Class of Worker Recode - Job 1 \\n- Class of Worker Recode - Job 2  \\n- COW - Private or Government  \\n- Detailed Class of Worker Recode - Job 1 \\n- Detailed Class of Worker Recode - Job 2  \\n- Detailed Industry Recode - Job 1  \\n- Detailed Industry Recode - Job 2  \\n- Detailed Occupation Recode - Job 1  \\n- Detailed Occupation Recode  \\t\\t\\t\\t\\t\\t\\t\\t\\t\\t\\t\\t\\t\\t\\t\\t\\t\\t\\t\\t\\t\\t\\t\\t\\t\\t\\t\\t\\t\\t\\t     Employed persons (non farm and non private household) recode   Major Industry Recode - Job 1   Major Industry Recode - Job 2   Major Occupation Recode - Job 1   Major Occupation Recode - Job 2   Major Occupation Categories     Non Agriculture, Private Wage and Salary Workers Recode    Non Agriculture Wage and Salary Workers Recode    Single/Multiple Jobholder Recode    Earnings Eligibility Flag    Allocation flag weekly earnings recode (PTERNWA) allocation flag    Allocation flag hourly earnings recode (PTERNHLY) allocation flag    Intermediate industry recode (Job 1)    Intermediate industry recode (Job 2)\""
      ]
     },
     "execution_count": 51,
     "metadata": {},
     "output_type": "execute_result"
    }
   ],
   "source": [
    "prompt = \"\"\"The following phrases are descriptions for variables in a dataset; that is, they are headings for \n",
    "columns in a spreadsheet. Identify the major topics or categories for these descriptions, then \n",
    "return them grouped by that topic.\n",
    "\n",
    "{lines}\n",
    "\n",
    "\"\"\"\n",
    "\n",
    "N = 100\n",
    "g = 'pr'\n",
    "\n",
    "try:\n",
    "    lines = vd[vd.cat == g].desc.sample(N).to_list()\n",
    "except ValueError:\n",
    "    lines = vd[vd.cat == g].desc.to_list()\n",
    "\n",
    "r = openai_one_completion(prompt.format(lines='\\n'.join(lines)))\n",
    "r"
   ]
  },
  {
   "cell_type": "code",
   "execution_count": 52,
   "metadata": {},
   "outputs": [
    {
     "name": "stdout",
     "output_type": "stream",
     "text": [
      "Personal Information:\n",
      "- Person's age\n",
      "- Top code flag for age\n",
      "- Detailed Hispanic origin group\n",
      "- Family number recode\n",
      "- Family relationship recode\n",
      "- Family type recode\n",
      "- Marital status based on Armed Forces participation\n",
      "- Type of person record recode\n",
      "- Citizenship status\n",
      "- Citizenship allocation flag\n",
      "- Immigrant's year of entry\n",
      "- NLF activity - in school or not in school\n",
      "- Presence of own children < 18 years of age by selected age group\n",
      "- Number of own children < 18 years of age\n",
      "- Does this person have any of these disability conditions?\n",
      "- Detailed Asian race recode\n",
      "\n",
      "Employment: \n",
      "- Reason not at work and pay status\n",
      "- Civilian labor force\n",
      "- Discouraged worker recode \n",
      "- Reason not at work or hours at work \n",
      "- MLR - Employed, unemployed, or NILF \n",
      "- Experienced labor force employment \n",
      "- Full time labor force \n",
      "- Usual hours worked weekly \n",
      "- Job search recode \n",
      "- At work 1 - 34 by hours at work \n",
      "- Detailed reason for part time \n",
      "- Duration of unemployment for layoff and looking records \n",
      "- Reason for unemployment \n",
      "- Labor force by time worked or lost  \n",
      "- Full/part time work status \n",
      "- NILF recode - Want a job or other NILF  \n",
      "- Industry and Occupation Eligibility Flag \n",
      "- Agriculture/Non Agriculture Industry  \n",
      "- Class of Worker Recode - Job 1 \n",
      "- Class of Worker Recode - Job 2  \n",
      "- COW - Private or Government  \n",
      "- Detailed Class of Worker Recode - Job 1 \n",
      "- Detailed Class of Worker Recode - Job 2  \n",
      "- Detailed Industry Recode - Job 1  \n",
      "- Detailed Industry Recode - Job 2  \n",
      "- Detailed Occupation Recode - Job 1  \n",
      "- Detailed Occupation Recode  \t\t\t\t\t\t\t\t\t\t\t\t\t\t\t\t\t\t\t\t\t\t\t\t\t\t\t\t\t\t\t     Employed persons (non farm and non private household) recode   Major Industry Recode - Job 1   Major Industry Recode - Job 2   Major Occupation Recode - Job 1   Major Occupation Recode - Job 2   Major Occupation Categories     Non Agriculture, Private Wage and Salary Workers Recode    Non Agriculture Wage and Salary Workers Recode    Single/Multiple Jobholder Recode    Earnings Eligibility Flag    Allocation flag weekly earnings recode (PTERNWA) allocation flag    Allocation flag hourly earnings recode (PTERNHLY) allocation flag    Intermediate industry recode (Job 1)    Intermediate industry recode (Job 2)\n"
     ]
    }
   ],
   "source": [
    "print(r)"
   ]
  },
  {
   "cell_type": "code",
   "execution_count": null,
   "metadata": {},
   "outputs": [],
   "source": []
  }
 ],
 "metadata": {
  "kernelspec": {
   "display_name": "Python 3 (ipykernel)",
   "language": "python",
   "name": "python3"
  },
  "language_info": {
   "codemirror_mode": {
    "name": "ipython",
    "version": 3
   },
   "file_extension": ".py",
   "mimetype": "text/x-python",
   "name": "python",
   "nbconvert_exporter": "python",
   "pygments_lexer": "ipython3",
   "version": "3.10.6"
  }
 },
 "nbformat": 4,
 "nbformat_minor": 4
}
